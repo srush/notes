{
 "metadata": {
  "name": ""
 },
 "nbformat": 3,
 "nbformat_minor": 0,
 "worksheets": [
  {
   "cells": [
    {
     "cell_type": "markdown",
     "source": [
      "Some misc speed tricks for using numpy. "
     ]
    },
    {
     "cell_type": "heading",
     "level": 1,
     "source": [
      "Updates"
     ]
    },
    {
     "cell_type": "code",
     "collapsed": false,
     "input": [
      "import numpy as np"
     ],
     "language": "python",
     "outputs": [],
     "prompt_number": 1
    },
    {
     "cell_type": "code",
     "collapsed": false,
     "input": [
      "def update(A, B, C):\n",
      "    A[B] += C\n",
      "    return A"
     ],
     "language": "python",
     "outputs": [],
     "prompt_number": 13
    },
    {
     "cell_type": "code",
     "collapsed": false,
     "input": [
      "update(np.array([0, 0, 0]),\n",
      "       np.array([2, 1]),\n",
      "       np.array([3, 5]))"
     ],
     "language": "python",
     "outputs": [
      {
       "output_type": "pyout",
       "prompt_number": 14,
       "text": [
        "array([0, 5, 3])"
       ]
      }
     ],
     "prompt_number": 14
    },
    {
     "cell_type": "markdown",
     "source": [
      "Speed comparison\n",
      "----------------"
     ]
    },
    {
     "cell_type": "code",
     "collapsed": false,
     "input": [
      "def naive_update(A, B, C):\n",
      "    for index in B:\n",
      "        A[index] += C[index]\n",
      "    return A"
     ],
     "language": "python",
     "outputs": [],
     "prompt_number": 22
    },
    {
     "cell_type": "code",
     "collapsed": false,
     "input": [
      "%%timeit\n",
      "Q = update(np.zeros(100000), np.arange(100000), np.random.random(100000))\n",
      "None"
     ],
     "language": "python",
     "outputs": [
      {
       "output_type": "stream",
       "stream": "stdout",
       "text": [
        "100 loops, best of 3: 3.14 ms per loop\n"
       ]
      }
     ],
     "prompt_number": 27
    },
    {
     "cell_type": "code",
     "collapsed": false,
     "input": [
      "%%timeit\n",
      "Q = naive_update(np.zeros(100000), np.arange(100000), np.random.random(100000))\n",
      "None"
     ],
     "language": "python",
     "outputs": [
      {
       "output_type": "stream",
       "stream": "stdout",
       "text": [
        "10 loops, best of 3: 50.7 ms per loop\n"
       ]
      }
     ],
     "prompt_number": 28
    },
    {
     "cell_type": "heading",
     "level": 1,
     "source": [
      "Resizing"
     ]
    },
    {
     "cell_type": "markdown",
     "source": [
      "Sometimes it makes sense to have flat vectors, sometimes we want tables."
     ]
    },
    {
     "cell_type": "code",
     "collapsed": false,
     "input": [
      "np.arange(10)"
     ],
     "language": "python",
     "outputs": [
      {
       "output_type": "pyout",
       "prompt_number": 30,
       "text": [
        "array([0, 1, 2, 3, 4, 5, 6, 7, 8, 9])"
       ]
      }
     ],
     "prompt_number": 30
    },
    {
     "cell_type": "code",
     "collapsed": false,
     "input": [
      "# reshape\n",
      "structured = np.arange(10).reshape(2, 5)\n",
      "structured"
     ],
     "language": "python",
     "outputs": [
      {
       "output_type": "pyout",
       "prompt_number": 52,
       "text": [
        "array([[0, 1, 2, 3, 4],\n",
        "       [5, 6, 7, 8, 9]])"
       ]
      }
     ],
     "prompt_number": 52
    },
    {
     "cell_type": "code",
     "collapsed": false,
     "input": [
      "# ravel\n",
      "flat = np.arange(10).reshape(2, 5).ravel()\n",
      "flat"
     ],
     "language": "python",
     "outputs": [
      {
       "output_type": "pyout",
       "prompt_number": 53,
       "text": [
        "array([0, 1, 2, 3, 4, 5, 6, 7, 8, 9])"
       ]
      }
     ],
     "prompt_number": 53
    },
    {
     "cell_type": "heading",
     "level": 1,
     "source": [
      "Ravel/Unravel"
     ]
    },
    {
     "cell_type": "markdown",
     "source": [
      "Unravel let's us map between the indices in flat and structured respresentation."
     ]
    },
    {
     "cell_type": "code",
     "collapsed": false,
     "input": [
      "flat_index = 5 \n",
      "struct_index = np.unravel_index(flat_index,  (2, 5))\n",
      "print flat_index\n",
      "print struct_index\n",
      "print flat[flat_index] == structured[struct_index]"
     ],
     "language": "python",
     "outputs": [
      {
       "output_type": "stream",
       "stream": "stdout",
       "text": [
        "5\n",
        "(1, 0)\n",
        "True\n"
       ]
      }
     ],
     "prompt_number": 79
    },
    {
     "cell_type": "markdown",
     "source": [
      "This works for a list of indices as well. "
     ]
    },
    {
     "cell_type": "code",
     "collapsed": false,
     "input": [
      "flat_indices = [1, 2, 3, 5] \n",
      "struct_indices = np.unravel_index(flat_index,  (2, 5))\n",
      "print flat[flat_indices]\n",
      "print structured[struct_indices]"
     ],
     "language": "python",
     "outputs": [
      {
       "output_type": "stream",
       "stream": "stdout",
       "text": [
        "[1 2 3 5]\n",
        "[1 2 3 5]\n"
       ]
      }
     ],
     "prompt_number": 69
    },
    {
     "cell_type": "markdown",
     "source": [
      "The converse is mapping from structured to flat indices. "
     ]
    },
    {
     "cell_type": "code",
     "collapsed": false,
     "input": [
      "struct_index = (1, 0)\n",
      "flat_index = np.ravel_multi_index((1, 0), (2, 5))\n",
      "print struct_index, flat_index\n",
      "print flat[flat_index] == structured[struct_index]"
     ],
     "language": "python",
     "outputs": [
      {
       "output_type": "stream",
       "stream": "stdout",
       "text": [
        "(1, 0) 5\n",
        "True\n"
       ]
      }
     ],
     "prompt_number": 101
    },
    {
     "cell_type": "heading",
     "level": 1,
     "source": [
      "Example: Probability Distribution. "
     ]
    },
    {
     "cell_type": "markdown",
     "source": [
      "Assume we have 5 classes each generating 10 possible  part-of-speech tags from a multinomial distribution. \n",
      "$p(T | C)$. First we "
     ]
    },
    {
     "cell_type": "code",
     "collapsed": false,
     "input": [
      "rand_counts = np.random.random((10, 5))\n",
      "P = rand_counts / rand_counts.sum(0)\n",
      "\n",
      "# p(T | C = 3)\n",
      "print P[:, 3]\n",
      "\n",
      "# \\sum_t p(T= t | C = 3)\n",
      "print P[:, 3].sum()"
     ],
     "language": "python",
     "outputs": [
      {
       "output_type": "stream",
       "stream": "stdout",
       "text": [
        "[ 0.05144532  0.06257147  0.11463324  0.07445899  0.15707457  0.02098854\n",
        "  0.17667405  0.10162499  0.19443791  0.04609092]\n",
        "1.0\n"
       ]
      }
     ],
     "prompt_number": 117
    },
    {
     "cell_type": "markdown",
     "source": [
      "Now assume we have a stream of expected counts of unique observations of tags under classes.. "
     ]
    },
    {
     "cell_type": "code",
     "collapsed": false,
     "input": [
      "observations = np.array([(4, 2), (8, 3), (2, 1)])\n",
      "observation_counts = np.array([3,2, 4])"
     ],
     "language": "python",
     "outputs": [],
     "prompt_number": 138
    },
    {
     "cell_type": "code",
     "collapsed": false,
     "input": [
      "expected_counts = np.zeros((10, 5))\n",
      "expected_counts[tuple(observations.T)] += observation_counts"
     ],
     "language": "python",
     "outputs": [],
     "prompt_number": 148
    },
    {
     "cell_type": "code",
     "collapsed": false,
     "input": [
      "expected_counts"
     ],
     "language": "python",
     "outputs": [
      {
       "output_type": "pyout",
       "prompt_number": 149,
       "text": [
        "array([[ 0.,  0.,  0.,  0.,  0.],\n",
        "       [ 0.,  0.,  0.,  0.,  0.],\n",
        "       [ 0.,  4.,  0.,  0.,  0.],\n",
        "       [ 0.,  0.,  0.,  0.,  0.],\n",
        "       [ 0.,  0.,  3.,  0.,  0.],\n",
        "       [ 0.,  0.,  0.,  0.,  0.],\n",
        "       [ 0.,  0.,  0.,  0.,  0.],\n",
        "       [ 0.,  0.,  0.,  0.,  0.],\n",
        "       [ 0.,  0.,  0.,  2.,  0.],\n",
        "       [ 0.,  0.,  0.,  0.,  0.]])"
       ]
      }
     ],
     "prompt_number": 149
    },
    {
     "cell_type": "markdown",
     "source": [
      "Alternatively we might have flat indices. "
     ]
    },
    {
     "cell_type": "code",
     "collapsed": false,
     "input": [
      "flat_indices = np.ravel_multi_index(observation.T, (10, 5))"
     ],
     "language": "python",
     "outputs": [],
     "prompt_number": 144
    },
    {
     "cell_type": "code",
     "collapsed": false,
     "input": [
      "expected_counts = np.zeros((10, 5))\n",
      "flat_counts = expected_counts.ravel()\n",
      "flat_counts[flat_index] += observation_counts"
     ],
     "language": "python",
     "outputs": [],
     "prompt_number": 145
    },
    {
     "cell_type": "code",
     "collapsed": false,
     "input": [
      "expected_counts"
     ],
     "language": "python",
     "outputs": [
      {
       "output_type": "pyout",
       "prompt_number": 146,
       "text": [
        "array([[ 0.,  0.,  0.,  0.,  0.],\n",
        "       [ 0.,  0.,  0.,  0.,  0.],\n",
        "       [ 0.,  4.,  0.,  0.,  0.],\n",
        "       [ 0.,  0.,  0.,  0.,  0.],\n",
        "       [ 0.,  0.,  3.,  0.,  0.],\n",
        "       [ 0.,  0.,  0.,  0.,  0.],\n",
        "       [ 0.,  0.,  0.,  0.,  0.],\n",
        "       [ 0.,  0.,  0.,  0.,  0.],\n",
        "       [ 0.,  0.,  0.,  2.,  0.],\n",
        "       [ 0.,  0.,  0.,  0.,  0.]])"
       ]
      }
     ],
     "prompt_number": 146
    },
    {
     "cell_type": "heading",
     "level": 1,
     "source": [
      "Example: (Multiple) Probability Distributions. "
     ]
    },
    {
     "cell_type": "markdown",
     "source": [
      "Same deal, now with multiple random starting distributions. "
     ]
    },
    {
     "cell_type": "code",
     "collapsed": false,
     "input": [
      "rand_counts = np.random.random((10, 5, 20))\n",
      "P = rand_counts / rand_counts.sum(0)\n",
      "print P[:, 3, 1].sum()"
     ],
     "language": "python",
     "outputs": [
      {
       "output_type": "stream",
       "stream": "stdout",
       "text": [
        "1.0\n"
       ]
      }
     ],
     "prompt_number": 199
    },
    {
     "cell_type": "markdown",
     "source": [
      "Now we have one set of observations, multiple sets of counts."
     ]
    },
    {
     "cell_type": "code",
     "collapsed": false,
     "input": [
      "observations = np.array([(4, 2), (8, 3), (2, 1)])\n",
      "observation_counts = np.random.random((3, 20))"
     ],
     "language": "python",
     "outputs": [],
     "prompt_number": 201
    },
    {
     "cell_type": "code",
     "collapsed": false,
     "input": [
      "observation_counts"
     ],
     "language": "python",
     "outputs": [
      {
       "output_type": "pyout",
       "prompt_number": 202,
       "text": [
        "array([[ 0.63706821,  0.88856227,  0.15107182,  0.33379919,  0.78176608,\n",
        "         0.46862955,  0.64149333,  0.28136727,  0.13318519,  0.18149174,\n",
        "         0.60249259,  0.76060238,  0.47332035,  0.53711929,  0.14588339,\n",
        "         0.65177623,  0.12488752,  0.36853602,  0.53640034,  0.64854403],\n",
        "       [ 0.01693617,  0.30071898,  0.70738066,  0.97108754,  0.40840899,\n",
        "         0.95595997,  0.97452714,  0.49787328,  0.64396625,  0.57264911,\n",
        "         0.50462141,  0.4908603 ,  0.53967298,  0.77949609,  0.28910916,\n",
        "         0.07206755,  0.92424216,  0.11462226,  0.59311541,  0.1531191 ],\n",
        "       [ 0.71595125,  0.23486259,  0.65708521,  0.9387501 ,  0.0748024 ,\n",
        "         0.02761789,  0.60075626,  0.4777983 ,  0.93976008,  0.29396169,\n",
        "         0.2652238 ,  0.32184832,  0.13448683,  0.38106288,  0.02088233,\n",
        "         0.91412245,  0.00800114,  0.6413649 ,  0.93640318,  0.75521288]])"
       ]
      }
     ],
     "prompt_number": 202
    },
    {
     "cell_type": "code",
     "collapsed": false,
     "input": [
      "expected_counts = np.zeros((10, 5, 20))\n",
      "expected_counts[tuple(observations.T)] = observation_counts "
     ],
     "language": "python",
     "outputs": [],
     "prompt_number": 204
    },
    {
     "cell_type": "code",
     "collapsed": false,
     "input": [
      "expected_counts[:, :, 1]"
     ],
     "language": "python",
     "outputs": [
      {
       "output_type": "pyout",
       "prompt_number": 205,
       "text": [
        "array([[ 0.        ,  0.        ,  0.        ,  0.        ,  0.        ],\n",
        "       [ 0.        ,  0.        ,  0.        ,  0.        ,  0.        ],\n",
        "       [ 0.        ,  0.23486259,  0.        ,  0.        ,  0.        ],\n",
        "       [ 0.        ,  0.        ,  0.        ,  0.        ,  0.        ],\n",
        "       [ 0.        ,  0.        ,  0.88856227,  0.        ,  0.        ],\n",
        "       [ 0.        ,  0.        ,  0.        ,  0.        ,  0.        ],\n",
        "       [ 0.        ,  0.        ,  0.        ,  0.        ,  0.        ],\n",
        "       [ 0.        ,  0.        ,  0.        ,  0.        ,  0.        ],\n",
        "       [ 0.        ,  0.        ,  0.        ,  0.30071898,  0.        ],\n",
        "       [ 0.        ,  0.        ,  0.        ,  0.        ,  0.        ]])"
       ]
      }
     ],
     "prompt_number": 205
    }
   ]
  }
 ]
}